{
 "cells": [
  {
   "cell_type": "code",
   "execution_count": 3,
   "id": "e7c99c15-61eb-4133-8c76-fbefb10ae220",
   "metadata": {},
   "outputs": [
    {
     "name": "stdout",
     "output_type": "stream",
     "text": [
      "Model and column list saved successfully.\n"
     ]
    }
   ],
   "source": [
    "import pandas as pd\n",
    "from sklearn.model_selection import train_test_split\n",
    "from sklearn.ensemble import RandomForestClassifier\n",
    "import joblib\n",
    "\n",
    "# Load data\n",
    "data = pd.read_csv(\"D:\\\\AIMLInternship\\\\adult.csv\")\n",
    "\n",
    "# Drop the target and column not used\n",
    "X = data.drop(columns=['income', 'education'])  \n",
    "y = data['income']\n",
    "\n",
    "# encode categorical columns\n",
    "X_encoded = pd.get_dummies(X)\n",
    "\n",
    "# Split after encoding\n",
    "X_train, X_test, y_train, y_test = train_test_split(X_encoded, y, test_size=0.2, random_state=42)\n",
    "\n",
    "# train the model\n",
    "model = RandomForestClassifier(random_state=42)\n",
    "model.fit(X_train, y_train)\n",
    "\n",
    "# Save model and the columns used during training\n",
    "joblib.dump(model, 'best_model.pkl')\n",
    "joblib.dump(X_encoded.columns.tolist(), 'model_columns.pkl')\n",
    "\n",
    "print(\"Model and column list saved successfully.\")\n"
   ]
  },
  {
   "cell_type": "code",
   "execution_count": null,
   "id": "2b2179cb-0a1b-49d6-8631-12b174c556f1",
   "metadata": {},
   "outputs": [],
   "source": []
  }
 ],
 "metadata": {
  "kernelspec": {
   "display_name": "Python 3 (ipykernel)",
   "language": "python",
   "name": "python3"
  },
  "language_info": {
   "codemirror_mode": {
    "name": "ipython",
    "version": 3
   },
   "file_extension": ".py",
   "mimetype": "text/x-python",
   "name": "python",
   "nbconvert_exporter": "python",
   "pygments_lexer": "ipython3",
   "version": "3.12.7"
  }
 },
 "nbformat": 4,
 "nbformat_minor": 5
}
